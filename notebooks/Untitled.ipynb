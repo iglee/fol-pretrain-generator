{
 "cells": [
  {
   "cell_type": "code",
   "execution_count": 2,
   "id": "838d560e",
   "metadata": {},
   "outputs": [],
   "source": [
    "import pickle\n",
    "import random\n",
    "import json"
   ]
  },
  {
   "cell_type": "code",
   "execution_count": 5,
   "id": "fcc614c6",
   "metadata": {},
   "outputs": [],
   "source": [
    "with open(\"../data/unique_fol_rules.pkl\",\"rb\") as f:\n",
    "\n",
    "    rules = pickle.load(f)"
   ]
  },
  {
   "cell_type": "code",
   "execution_count": 36,
   "id": "af9a6538",
   "metadata": {},
   "outputs": [],
   "source": [
    "def data_process(x):\n",
    "    data = {}\n",
    "    data['data'] = x[0].replace(\"\\n\",\"\")\n",
    "    data['total_complexity'] = x[1]\n",
    "    for k,v in x[2].items():\n",
    "        data[k]=v\n",
    "    data['exprs'] = [y.replace(\"\\n\",\"\") for y in data['exprs']]\n",
    "    return data"
   ]
  },
  {
   "cell_type": "code",
   "execution_count": 37,
   "id": "c03af9a4",
   "metadata": {},
   "outputs": [
    {
     "name": "stdout",
     "output_type": "stream",
     "text": [
      "{'data': '((p₀ ∨ p₂ ∨ ¬(p₀ ∧ p₃)) → ¬p₂) ⇔ ((p₀ ∨ p₂ ∨ ¬p₀ ∨ ¬p₃) → ¬p₂) ⇔ (¬p₂)', 'total_complexity': 55, 'program_complexity': 41, 'num_var': 3, 'num_ops': 4, 'original_depth': 5, 'original_complexity': 48, 'exprs': ['(p₀ ∨ p₂ ∨ ¬(p₀ ∧ p₃)) → ¬p₂', '(p₀ ∨ p₂ ∨ ¬p₀ ∨ ¬p₃) → ¬p₂', '¬p₂'], 'complexity_by_step': [17, 16, 4], 'elimination_complexity': [6, 1]}\n"
     ]
    }
   ],
   "source": [
    "\n",
    "    \n",
    "\n",
    "    "
   ]
  },
  {
   "cell_type": "code",
   "execution_count": 35,
   "id": "17c1a434",
   "metadata": {},
   "outputs": [
    {
     "data": {
      "text/plain": [
       "{'program_complexity': 41,\n",
       " 'num_var': 3,\n",
       " 'num_ops': 4,\n",
       " 'original_depth': 5,\n",
       " 'original_complexity': 48,\n",
       " 'exprs': ['(p₀ ∨ p₂ ∨ ¬(p₀ ∧ p₃)) → ¬p₂',\n",
       "  '(p₀ ∨ p₂ ∨ ¬p₀ ∨ ¬p₃) → ¬p₂',\n",
       "  '¬p₂'],\n",
       " 'complexity_by_step': [17, 16, 4],\n",
       " 'elimination_complexity': [6, 1]}"
      ]
     },
     "execution_count": 35,
     "metadata": {},
     "output_type": "execute_result"
    }
   ],
   "source": [
    "rule[2]"
   ]
  },
  {
   "cell_type": "code",
   "execution_count": 26,
   "id": "8f31b005",
   "metadata": {},
   "outputs": [
    {
     "data": {
      "text/plain": [
       "('(¬(p₁ ∨ p₂ ∨ (p₂ → p₀) ∨ (p₂ → p₁) ∨ ¬p₀)) ⇔ (¬(p₀ ∨ p₁ ∨ p₂ ∨ (p₂ → p₁) ∨ ¬p₀ ∨ ¬p₂)) ⇔ (¬(p₀ ∨ p₁ ∨ p₂ ∨ ¬p₀ ∨ ¬p₂)) ⇔ (False)',\n",
       " 37,\n",
       " {'program_complexity': 15,\n",
       "  'num_var': 3,\n",
       "  'num_ops': 3,\n",
       "  'original_depth': 4,\n",
       "  'original_complexity': 21,\n",
       "  'exprs': ['¬(p₁ ∨ p₂ ∨ (p₂ → p₀) ∨ (p₂ → p₁) ∨ ¬p₀)',\n",
       "   '¬(p₀ ∨ p₁ ∨ p₂ ∨ (p₂ → p₁) ∨ ¬p₀ ∨ ¬p₂)',\n",
       "   '¬(p₀ ∨ p₁ ∨ p₂ ∨ ¬p₀ ∨ ¬p₂)',\n",
       "   'False'],\n",
       "  'complexity_by_step': [18, 18, 14, 1],\n",
       "  'elimination_complexity': [7, 8, 1]})"
      ]
     },
     "execution_count": 26,
     "metadata": {},
     "output_type": "execute_result"
    }
   ],
   "source": [
    "rules[-20]"
   ]
  },
  {
   "cell_type": "code",
   "execution_count": 30,
   "id": "ddfb3b03",
   "metadata": {},
   "outputs": [
    {
     "data": {
      "text/plain": [
       "('(¬(((p₀ ∨ p₁) → (p₀ ∨ p₂)) ∧ ¬(p₁ ∧ p₂) ∧ (p₃ → p₁) ↛ ¬p₁)) ⇔ (¬(((p₀ ∨ p₁) → (p₀ ∨ p₂)) ∧ ¬(p₁ ∧ p₂) ∧ (p₁ ∨ ¬p₃) ↛ ¬p₁)) ⇔ (¬(((p₀ ∨ p₁) → (p₀ ∨ p₂)) ∧ (p₁ ∨ ¬p₃) ↛ ¬p₁ ∧ (¬p₁ ∨ ¬p₂))) ⇔ (¬((p₁ ∨ ¬p₃) ↛ ¬p₁ ∧ (¬p₁ ∨ ¬p₂) ∧ (p₀ ∨ p₂ ∨ ¬p₁))) ⇔ (¬(¬¬p₁ ∧ (¬p₁ ∨ ¬p₂) ∧ (p₀ ∨ p₂ ∨ ¬p₁))) ⇔ (¬(p₀ ∧ p₁ ∧ ¬p₂)) ⇔ (p₂ ∨ ¬p₀ ∨ ¬p₁)',\n",
       " 59,\n",
       " {'program_complexity': 21,\n",
       "  'num_var': 4,\n",
       "  'num_ops': 4,\n",
       "  'original_depth': 5,\n",
       "  'original_complexity': 29,\n",
       "  'exprs': ['¬(((p₀ ∨ p₁) → (p₀ ∨ p₂)) ∧ ¬(p₁ ∧ p₂) ∧ (p₃ → p₁) ↛ ¬p₁)',\n",
       "   '¬(((p₀ ∨ p₁) → (p₀ ∨ p₂)) ∧ ¬(p₁ ∧ p₂) ∧ (p₁ ∨ ¬p₃) ↛ ¬p₁)',\n",
       "   '¬(((p₀ ∨ p₁) → (p₀ ∨ p₂)) ∧ (p₁ ∨ ¬p₃) ↛ ¬p₁ ∧ (¬p₁ ∨ ¬p₂))',\n",
       "   '¬((p₁ ∨ ¬p₃) ↛ ¬p₁ ∧ (¬p₁ ∨ ¬p₂) ∧ (p₀ ∨ p₂ ∨ ¬p₁))',\n",
       "   '¬(¬¬p₁ ∧ (¬p₁ ∨ ¬p₂) ∧ (p₀ ∨ p₂ ∨ ¬p₁))',\n",
       "   '¬(p₀ ∧ p₁ ∧ ¬p₂)',\n",
       "   'p₂ ∨ ¬p₀ ∨ ¬p₁'],\n",
       "  'complexity_by_step': [28, 29, 30, 28, 21, 11, 11],\n",
       "  'elimination_complexity': [11, 5, 5, 6, 2, 1]})"
      ]
     },
     "execution_count": 30,
     "metadata": {},
     "output_type": "execute_result"
    }
   ],
   "source": [
    "rules[-100]"
   ]
  },
  {
   "cell_type": "code",
   "execution_count": 29,
   "id": "8c3d72d2",
   "metadata": {},
   "outputs": [
    {
     "data": {
      "text/plain": [
       "'((p₃ → p₀) ∧ (p₁ ∨ p₂) ∧ ((p₀ ∧ p₁) ∨ (p₂ ∧ p₃))) ∨ (p₂ ∧ ((p₂ ∨ p₃) → (p₁ ∧ p₃)) ∧ ((p₃ → p₀) ∨ ¬p₀) ∧ (p₁ ∨ p₂ ∨ (p₀ ∧ p₂))) ∨ (((p₀ ∧ p₃) → (p₁ ∧ p₃)) → (p\\n₂ ∨ p₃))'"
      ]
     },
     "execution_count": 29,
     "metadata": {},
     "output_type": "execute_result"
    }
   ],
   "source": [
    "'((p₃ → p₀) ∧ (p₁ ∨ p₂) ∧ ((p₀ ∧ p₁) ∨ (p₂ ∧ p₃))) ∨ (p₂ ∧ ((p₂ ∨ p₃) → (p₁ ∧ p₃)) ∧ ((p₃ → p₀) ∨ ¬p₀) ∧ (p₁ ∨ p₂ ∨ (p₀ ∧ p₂))) ∨ (((p₀ ∧ p₃) → (p₁ ∧ p₃)) → (p\\n₂ ∨ p₃))'"
   ]
  },
  {
   "cell_type": "code",
   "execution_count": 28,
   "id": "84e1e5bf",
   "metadata": {},
   "outputs": [
    {
     "name": "stdout",
     "output_type": "stream",
     "text": [
      "((p₃ → p₀) ∧ (p₁ ∨ p₂) ∧ ((p₀ ∧ p₁) ∨ (p₂ ∧ p₃))) ∨ (p₂ ∧ ((p₂ ∨ p₃) → (p₁ ∧ p₃)) ∧ ((p₃ → p₀) ∨ ¬p₀) ∧ (p₁ ∨ p₂ ∨ (p₀ ∧ p₂))) ∨ (((p₀ ∧ p₃) → (p₁ ∧ p₃)) → (p₂ ∨ p₃))\n"
     ]
    }
   ],
   "source": [
    "for x in rules[-40][-1]['exprs']:\n",
    "    print(x.replace(\"\\n\",\"\"))\n",
    "    break"
   ]
  },
  {
   "cell_type": "code",
   "execution_count": 7,
   "id": "0d6522a5",
   "metadata": {},
   "outputs": [],
   "source": [
    "\n",
    "\n",
    "def select_random_element(lst):\n",
    "    \"\"\"\n",
    "    Selects a random element from a given list.\n",
    "\n",
    "    Parameters:\n",
    "        lst (list): The list to select an element from.\n",
    "\n",
    "    Returns:\n",
    "        element: A randomly selected element from the list.\n",
    "    \"\"\"\n",
    "    if not lst:\n",
    "        raise ValueError(\"The list is empty. Cannot select a random element.\")\n",
    "    return random.choice(lst)"
   ]
  },
  {
   "cell_type": "code",
   "execution_count": 17,
   "id": "7b55c2bd",
   "metadata": {},
   "outputs": [
    {
     "data": {
      "text/plain": [
       "['((p₁ ∨ p₂) → (p₀ ∨ p₁)) ∧ ((p₀ ∧ p₂) ∨ ¬p₂)',\n",
       " '((p₁ ∨ p₂) → (p₀ ∨ p₁)) ∧ (p₀ ∨ ¬p₂)',\n",
       " '(p₀ ∨ ¬p₂) ∧ (p₀ ∨ p₁ ∨ ¬p₂)',\n",
       " 'p₀ ∨ ¬p₂']"
      ]
     },
     "execution_count": 17,
     "metadata": {},
     "output_type": "execute_result"
    }
   ],
   "source": [
    "select_random_element(rules)[-1]['exprs']"
   ]
  },
  {
   "cell_type": "code",
   "execution_count": 11,
   "id": "5e791069",
   "metadata": {},
   "outputs": [
    {
     "data": {
      "text/plain": [
       "1200000"
      ]
     },
     "execution_count": 11,
     "metadata": {},
     "output_type": "execute_result"
    }
   ],
   "source": [
    "len(rules)"
   ]
  },
  {
   "cell_type": "code",
   "execution_count": null,
   "id": "aa2f7a33",
   "metadata": {},
   "outputs": [],
   "source": []
  }
 ],
 "metadata": {
  "kernelspec": {
   "display_name": "Python 3 (ipykernel)",
   "language": "python",
   "name": "python3"
  },
  "language_info": {
   "codemirror_mode": {
    "name": "ipython",
    "version": 3
   },
   "file_extension": ".py",
   "mimetype": "text/x-python",
   "name": "python",
   "nbconvert_exporter": "python",
   "pygments_lexer": "ipython3",
   "version": "3.9.12"
  }
 },
 "nbformat": 4,
 "nbformat_minor": 5
}
