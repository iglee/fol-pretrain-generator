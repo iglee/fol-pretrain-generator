{
 "cells": [
  {
   "cell_type": "code",
   "execution_count": 2,
   "id": "60724152-e65e-4d65-aafe-8e21fad9a313",
   "metadata": {},
   "outputs": [],
   "source": [
    "import json\n",
    "import random\n",
    "\n",
    "# File paths\n",
    "input_file = 'rules/train_rules.json'\n",
    "sample_file = 'rules/curated_train_rules.json'\n",
    "remainder_file = 'rules/train_rules-2.json'\n",
    "\n",
    "# Read the JSON file into a list\n",
    "with open(input_file, 'r', encoding='utf-8') as f:\n",
    "    data = json.load(f)\n",
    "\n",
    "# Sample 200 examples\n",
    "sampled = random.sample(data, 200)\n",
    "\n",
    "# Get the remainder\n",
    "sampled_set = set(map(id, sampled))\n",
    "remainder = [item for item in data if id(item) not in sampled_set]\n",
    "\n",
    "# Save sampled to a new JSON file\n",
    "with open(sample_file, 'w', encoding='utf-8') as f:\n",
    "    json.dump(sampled, f, indent=2, ensure_ascii=False)\n",
    "\n",
    "# Save remainder to another JSON file\n",
    "with open(remainder_file, 'w', encoding='utf-8') as f:\n",
    "    json.dump(remainder, f, indent=2, ensure_ascii=False)\n"
   ]
  },
  {
   "cell_type": "code",
   "execution_count": null,
   "id": "858d1ea0-47d1-4f81-b6e1-32e5a2e828f8",
   "metadata": {},
   "outputs": [],
   "source": []
  }
 ],
 "metadata": {
  "kernelspec": {
   "display_name": "Python 3 (ipykernel)",
   "language": "python",
   "name": "python3"
  },
  "language_info": {
   "codemirror_mode": {
    "name": "ipython",
    "version": 3
   },
   "file_extension": ".py",
   "mimetype": "text/x-python",
   "name": "python",
   "nbconvert_exporter": "python",
   "pygments_lexer": "ipython3",
   "version": "3.12.2"
  }
 },
 "nbformat": 4,
 "nbformat_minor": 5
}
