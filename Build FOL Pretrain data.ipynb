{
 "cells": [
  {
   "cell_type": "code",
   "execution_count": 58,
   "id": "a56898b4-9003-4e95-84ea-6217f578c97e",
   "metadata": {},
   "outputs": [],
   "source": [
    "import glob\n",
    "import os"
   ]
  },
  {
   "cell_type": "code",
   "execution_count": 4,
   "id": "f1e4b810-c60d-4a0d-b04b-3ecadd2e8a80",
   "metadata": {},
   "outputs": [
    {
     "name": "stderr",
     "output_type": "stream",
     "text": [
      "IOPub data rate exceeded.\n",
      "The Jupyter server will temporarily stop sending output\n",
      "to the client in order to avoid crashing it.\n",
      "To change this limit, set the config variable\n",
      "`--ServerApp.iopub_data_rate_limit`.\n",
      "\n",
      "Current values:\n",
      "ServerApp.iopub_data_rate_limit=1000000.0 (bytes/sec)\n",
      "ServerApp.rate_limit_window=3.0 (secs)\n",
      "\n"
     ]
    }
   ],
   "source": [
    "import json\n",
    "\n",
    "# Replace 'your_file.json' with the path to your file\n",
    "with open('rules/train_rules.json', 'r') as f:\n",
    "    data = json.load(f)\n",
    "\n",
    "# Now `data` is a Python list (if the JSON is an array at the top level)\n",
    "print(data)\n"
   ]
  },
  {
   "cell_type": "code",
   "execution_count": 71,
   "id": "06d6f664-cb86-46db-83a7-6dbfd6e24b03",
   "metadata": {},
   "outputs": [
    {
     "data": {
      "text/plain": [
       "{'program_complexity': 31,\n",
       " 'original_depth': 4,\n",
       " 'original_complexity': 37,\n",
       " 'exprs': ['((α → (α ∧ β)) ∧ (α ∨ (α ∧ γ))) ∨ ((γ → γ) ∧ (α ∨ β) ∧ (α ∨ γ ∨ (α ∧ γ)))',\n",
       "  '((α → (α ∧ β)) ∧ (α ∨ (α ∧ γ))) ∨ ((α ∨ β) ∧ (α ∨ γ ∨ (α ∧ γ)))',\n",
       "  '((α ∨ β) ∧ (α ∨ γ)) ∨ ((α ∨ (α ∧ γ)) ∧ (β ∨ ¬α))',\n",
       "  'α ∨ (β ∧ γ) ∨ ((α ∨ (α ∧ γ)) ∧ (β ∨ ¬α))',\n",
       "  'α ∨ (α ∧ (β ∨ ¬α)) ∨ (β ∧ γ)',\n",
       "  'α ∨ (α ∧ β) ∨ (β ∧ γ)',\n",
       "  'α ∨ (β ∧ γ)'],\n",
       " 'complexity_by_step': [25, 22, 18, 15, 11, 8, 5],\n",
       " 'elimination_complexity': [8, 3, 1, 4, 4, 1],\n",
       " 'num_var': [3, 3, 3, 3, 3, 3, 3],\n",
       " 'num_ops': [3, 3, 3, 3, 3, 2, 2],\n",
       " 'rule': '(((α → (α ∧ β)) ∧ (α ∨ (α ∧ γ))) ∨ ((γ → γ) ∧ (α ∨ β) ∧ (α ∨ γ ∨ (α ∧ γ)))) ⇔ (((α → (α ∧ β)) ∧ (α ∨ (α ∧ γ))) ∨ ((α ∨ β) ∧ (α ∨ γ ∨ (α ∧ γ)))) ⇔ (((α ∨ β) ∧ (α ∨ γ)) ∨ ((α ∨ (α ∧ γ)) ∧ (β ∨ ¬α))) ⇔ (α ∨ (β ∧ γ) ∨ ((α ∨ (α ∧ γ)) ∧ (β ∨ ¬α))) ⇔ (α ∨ (α ∧ (β ∨ ¬α)) ∨ (β ∧ γ)) ⇔ (α ∨ (α ∧ β) ∨ (β ∧ γ)) ⇔ (α ∨ (β ∧ γ))',\n",
       " 'id': 'train_1527592'}"
      ]
     },
     "execution_count": 71,
     "metadata": {},
     "output_type": "execute_result"
    }
   ],
   "source": [
    "data[10]"
   ]
  },
  {
   "cell_type": "code",
   "execution_count": 73,
   "id": "175b3f80-3ff2-46bf-8667-9ac9680559ed",
   "metadata": {},
   "outputs": [],
   "source": [
    "max_vars = 0\n",
    "for x in data:\n",
    "    max_vars = max(max(x[\"num_var\"]), max_vars)"
   ]
  },
  {
   "cell_type": "code",
   "execution_count": 51,
   "id": "cc10ddac-7bcc-4dc0-9c83-941c7a62b289",
   "metadata": {},
   "outputs": [
    {
     "data": {
      "image/png": "[encoded data removed]",
      "text/plain": [
       "<Figure size 640x480 with 1 Axes>"
      ]
     },
     "metadata": {},
     "output_type": "display_data"
    }
   ],
   "source": [
    "import matplotlib.pyplot as plt\n",
    "\n",
    "# Assuming you already have this:\n",
    "lengths = [len(z['rule']) for z in data]\n",
    "\n",
    "# Plot histogram\n",
    "plt.hist(lengths, bins=20, edgecolor='black')\n",
    "plt.xlabel('Number of Rules')\n",
    "plt.ylabel('Frequency')\n",
    "plt.title('Histogram of Rule Lengths')\n",
    "plt.grid(True)\n",
    "plt.show()\n",
    "\n",
    "     "
   ]
  },
  {
   "cell_type": "code",
   "execution_count": 52,
   "id": "ea759844-cc2d-4f08-95a8-b3a52c47a9a6",
   "metadata": {},
   "outputs": [
    {
     "data": {
      "text/plain": [
       "250903721"
      ]
     },
     "execution_count": 52,
     "metadata": {},
     "output_type": "execute_result"
    }
   ],
   "source": [
    "sum(lengths)"
   ]
  },
  {
   "cell_type": "code",
   "execution_count": 7,
   "id": "5541101c-e323-404d-a1c7-3dbc2d25eb28",
   "metadata": {},
   "outputs": [],
   "source": [
    "x = data[0]"
   ]
  },
  {
   "cell_type": "code",
   "execution_count": 47,
   "id": "7a0c1587-498f-498d-b90a-38cbbff925ab",
   "metadata": {},
   "outputs": [],
   "source": [
    "y = data[200001]"
   ]
  },
  {
   "cell_type": "code",
   "execution_count": 48,
   "id": "46598774-1277-4c70-830e-9bf4d7bca5c5",
   "metadata": {},
   "outputs": [
    {
     "data": {
      "text/plain": [
       "'((((α ∧ γ) ∨ ¬δ) → ¬(α ∧ β)) ∨ ¬β ↛ (β → γ)) ⇔ ((((α ∧ γ) ∨ ¬δ) → ¬(α ∧ β)) ∨ ¬β ↛ (γ ∨ ¬β)) ⇔ ((δ ∧ ¬γ) ∨ ¬α ∨ ¬β ∨ ¬β ↛ (γ ∨ ¬β)) ⇔ ((δ ∧ ¬γ) ∨ ¬α ∨ ¬β)'"
      ]
     },
     "execution_count": 48,
     "metadata": {},
     "output_type": "execute_result"
    }
   ],
   "source": [
    "y['rule']"
   ]
  },
  {
   "cell_type": "code",
   "execution_count": 42,
   "id": "a7b5cd7e-36b9-4285-aa47-3f12bbb30a37",
   "metadata": {},
   "outputs": [
    {
     "data": {
      "text/plain": [
       "578"
      ]
     },
     "execution_count": 42,
     "metadata": {},
     "output_type": "execute_result"
    }
   ],
   "source": [
    "len(y['rule'])"
   ]
  },
  {
   "cell_type": "code",
   "execution_count": 9,
   "id": "a31a65fd-f201-4361-9ec7-ca5e378300fa",
   "metadata": {},
   "outputs": [
    {
     "data": {
      "text/plain": [
       "'(((α ∨ β ∨ (α ∧ β)) → (α ∨ (β → β))) ∨ ¬¬¬β) ⇔ (((α ∨ β ∨ (α ∧ β)) → (True)) ∨ ¬¬¬β) ⇔ (True)'"
      ]
     },
     "execution_count": 9,
     "metadata": {},
     "output_type": "execute_result"
    }
   ],
   "source": [
    "x['rule']"
   ]
  },
  {
   "cell_type": "code",
   "execution_count": 10,
   "id": "f729bc44-8408-4360-baef-40e99c575b71",
   "metadata": {},
   "outputs": [],
   "source": [
    "import re\n",
    "\n",
    "def replace_greek_with_functions(expr, function_names):\n",
    "    greek_letters = ['α', 'β', 'γ', 'δ']\n",
    "    \n",
    "    if len(function_names) > len(greek_letters):\n",
    "        raise ValueError(\"Too many function names provided — max is 4 (α to δ).\")\n",
    "\n",
    "    # Create mapping from Greek letter to provided function name\n",
    "    greek_map = dict(zip(greek_letters, function_names))\n",
    "\n",
    "    # Replace each Greek letter in the string\n",
    "    for greek, func in greek_map.items():\n",
    "        expr = re.sub(rf'\\b{re.escape(greek)}\\b', func, expr)\n",
    "\n",
    "    return expr\n"
   ]
  },
  {
   "cell_type": "code",
   "execution_count": 11,
   "id": "66a3777d-61df-438c-b8bb-7a43461990ed",
   "metadata": {},
   "outputs": [
    {
     "data": {
      "text/plain": [
       "'(((α ∨ β ∨ (α ∧ β)) → (α ∨ (β → β))) ∨ ¬¬¬β) ⇔ (((α ∨ β ∨ (α ∧ β)) → (True)) ∨ ¬¬¬β) ⇔ (True)'"
      ]
     },
     "execution_count": 11,
     "metadata": {},
     "output_type": "execute_result"
    }
   ],
   "source": [
    "x['rule']"
   ]
  },
  {
   "cell_type": "code",
   "execution_count": 14,
   "id": "61c8a39b-9346-40c0-9403-1c1b348527b2",
   "metadata": {},
   "outputs": [],
   "source": [
    "replaced_x = replace_greek_with_functions(x['rule'], [\"Love(x)\", \"Hate(x)\", \"\",\"\",\"\"])"
   ]
  },
  {
   "cell_type": "code",
   "execution_count": 43,
   "id": "caed47b4-ca4b-4c4e-b04c-c9812f0e1787",
   "metadata": {},
   "outputs": [],
   "source": [
    "replaced_y = replace_greek_with_functions(y['rule'], [\"Love(x)\", \"Hate(x)\", \"Jealous(x)\",\"\",\"\"])"
   ]
  },
  {
   "cell_type": "code",
   "execution_count": 24,
   "id": "7eaa2a84-9df5-43b8-8980-34d7d37448a9",
   "metadata": {},
   "outputs": [],
   "source": [
    "import tiktoken\n",
    "\n",
    "def tokenize_with_cl100k_base(text):\n",
    "    \"\"\"\n",
    "    Tokenize a string using the cl100k_base tokenizer.\n",
    "\n",
    "    Parameters:\n",
    "    - text (str): The input string to tokenize.\n",
    "\n",
    "    Returns:\n",
    "    - tokens (list of int): The token IDs.\n",
    "    - decoded (list of str): The decoded text chunks for each token.\n",
    "    \"\"\"\n",
    "    enc = tiktoken.get_encoding(\"cl100k_base\")\n",
    "    tokens = enc.encode(text)\n",
    "    return tokens, len(tokens)\n"
   ]
  },
  {
   "cell_type": "code",
   "execution_count": 26,
   "id": "1efbf75b-ba1e-4d37-ae89-70048d686f34",
   "metadata": {},
   "outputs": [],
   "source": [
    "tokens, l = tokenize_with_cl100k_base(replaced_x)"
   ]
  },
  {
   "cell_type": "code",
   "execution_count": 27,
   "id": "52df487e-d811-46fb-bc35-7808551261ac",
   "metadata": {},
   "outputs": [
    {
     "data": {
      "text/plain": [
       "83"
      ]
     },
     "execution_count": 27,
     "metadata": {},
     "output_type": "execute_result"
    }
   ],
   "source": [
    "l"
   ]
  },
  {
   "cell_type": "code",
   "execution_count": 23,
   "id": "875ab22a-a427-4a12-9114-0af763178e4b",
   "metadata": {},
   "outputs": [
    {
     "data": {
      "text/plain": [
       "'(((Love(x) ∨ Hate(x) ∨ (Love(x) ∧ Hate(x))) → (Love(x) ∨ (Hate(x) → Hate(x)))) ∨ ¬¬¬Hate(x)) ⇔ (((Love(x) ∨ Hate(x) ∨ (Love(x) ∧ Hate(x))) → (True)) ∨ ¬¬¬Hate(x)) ⇔ (True)'"
      ]
     },
     "execution_count": 23,
     "metadata": {},
     "output_type": "execute_result"
    }
   ],
   "source": [
    "replaced_x"
   ]
  },
  {
   "cell_type": "code",
   "execution_count": 44,
   "id": "1ed891a6-073e-478f-8fc0-6b3594bafa57",
   "metadata": {},
   "outputs": [
    {
     "data": {
      "text/plain": [
       "'((((Hate(x) → Love(x)) ∨ (Jealous(x) → Love(x))) → ((Love(x) → Jealous(x)) ∧ (Hate(x) → Love(x)))) → ((Love(x) → Jealous(x)) ∧ ((Love(x) → Jealous(x)) → ¬Love(x)) ∧ ¬Love(x))) ⇔ ((((Hate(x) → Love(x)) ∨ (Jealous(x) → Love(x))) → ((Love(x) → Jealous(x)) ∧ (Hate(x) → Love(x)))) → (((Love(x) → Jealous(x)) → ¬Love(x)) ∧ ¬Love(x) ∧ (Jealous(x) ∨ ¬Love(x)))) ⇔ ((((Hate(x) → Love(x)) ∨ (Jealous(x) → Love(x))) → ((Love(x) → Jealous(x)) ∧ (Hate(x) → Love(x)))) → (((Jealous(x) ∨ ¬Love(x)) → ¬Love(x)) ∧ ¬Love(x) ∧ (Jealous(x) ∨ ¬Love(x)))) ⇔ (((Love(x) ∨ (Jealous(x) → Love(x)) ∨ ¬Hate(x)) → ((Love(x) → Jealous(x)) ∧ (Hate(x) → Love(x)))) → (((Jealous(x) ∨ ¬Love(x)) → ¬Love(x)) ∧ ¬Love(x) ∧ (Jealous(x) ∨ ¬Love(x)))) ⇔ (((Love(x) ∨ ¬Hate(x) ∨ ¬Jealous(x)) → ((Love(x) → Jealous(x)) ∧ (Hate(x) → Love(x)))) → (((Jealous(x) ∨ ¬Love(x)) → ¬Love(x)) ∧ ¬Love(x) ∧ (Jealous(x) ∨ ¬Love(x)))) ⇔ (((Love(x) ∨ ¬Hate(x) ∨ ¬Jealous(x)) → ((Hate(x) → Love(x)) ∧ (Jealous(x) ∨ ¬Love(x)))) → (((Jealous(x) ∨ ¬Love(x)) → ¬Love(x)) ∧ ¬Love(x) ∧ (Jealous(x) ∨ ¬Love(x)))) ⇔ (((Love(x) ∨ ¬Hate(x) ∨ ¬Jealous(x)) → ((Love(x) ∨ ¬Hate(x)) ∧ (Jealous(x) ∨ ¬Love(x)))) → (((Jealous(x) ∨ ¬Love(x)) → ¬Love(x)) ∧ ¬Love(x) ∧ (Jealous(x) ∨ ¬Love(x)))) ⇔ (¬Love(x) ∨ ¬Jealous(x))'"
      ]
     },
     "execution_count": 44,
     "metadata": {},
     "output_type": "execute_result"
    }
   ],
   "source": [
    "replaced_y"
   ]
  },
  {
   "cell_type": "code",
   "execution_count": 45,
   "id": "3d4ead32-4f1d-46b3-9b9a-5b7f0c36c963",
   "metadata": {},
   "outputs": [],
   "source": [
    "tokens, l = tokenize_with_cl100k_base(replaced_y)"
   ]
  },
  {
   "cell_type": "code",
   "execution_count": 46,
   "id": "ec3ad2d8-5432-4464-962d-757a9fc20a9d",
   "metadata": {},
   "outputs": [
    {
     "data": {
      "text/plain": [
       "540"
      ]
     },
     "execution_count": 46,
     "metadata": {},
     "output_type": "execute_result"
    }
   ],
   "source": [
    "l"
   ]
  },
  {
   "cell_type": "code",
   "execution_count": 53,
   "id": "f3248fd9-a1db-44df-97b3-6dac396e8871",
   "metadata": {},
   "outputs": [],
   "source": [
    "def process_file(input_file, output_file):\n",
    "    # Read the input file\n",
    "    with open(input_file, 'r') as file:\n",
    "        lines = file.readlines()\n",
    "\n",
    "    # Remove extra spaces at the end of each line and remove duplicates\n",
    "    cleaned_lines = set(line.rstrip() for line in lines if line.strip())  # Remove empty lines after stripping\n",
    "\n",
    "    # Write the processed lines to the output file\n",
    "    with open(output_file, 'w') as file:\n",
    "        for line in cleaned_lines:\n",
    "            file.write(line + '\\n')\n",
    "\n",
    "    # Return the unique cleaned lines\n",
    "    return list(cleaned_lines)\n"
   ]
  },
  {
   "cell_type": "code",
   "execution_count": 55,
   "id": "670843a5-4fad-472d-b8e1-cd3d935872bc",
   "metadata": {},
   "outputs": [],
   "source": [
    "# Example usage:\n",
    "input_filename = 'rules/basic_predicates.txt'\n",
    "output_filename = 'rules/predicates/basic_predicates.txt'\n",
    "unique_lines = process_file(input_filename, output_filename)\n",
    "len(unique_lines)"
   ]
  },
  {
   "cell_type": "code",
   "execution_count": 89,
   "id": "8b3fa10d-c505-4747-8898-4e28fe9c8d35",
   "metadata": {},
   "outputs": [
    {
     "name": "stdout",
     "output_type": "stream",
     "text": [
      "Processed pet_triplet_predicates.txt: 1039 unique lines.\n",
      "Processed emotion_predicates.txt: 262 unique lines.\n",
      "Processed bridgerton_triplet_predicates.txt: 876 unique lines.\n",
      "Processed basic_predicates.txt: 666 unique lines.\n",
      "Processed family_predicates.txt: 623 unique lines.\n",
      "Processed harrypotter_triplet_predicates.txt: 881 unique lines.\n",
      "Processed routines_predicates.txt: 577 unique lines.\n",
      "Processed position_predicates.txt: 861 unique lines.\n",
      "Processed science_predicates.txt: 893 unique lines.\n",
      "\n",
      "Total unique lines across all files: 6337\n",
      "Total lines processed: 6678\n"
     ]
    },
    {
     "data": {
      "text/plain": [
       "(6337, 6678)"
      ]
     },
     "execution_count": 89,
     "metadata": {},
     "output_type": "execute_result"
    }
   ],
   "source": [
    "def process_all_files(input_directory, output_directory):\n",
    "    total_unique_lines = set()  # Set to track unique lines across all files\n",
    "    total_count = 0\n",
    "    \n",
    "    # Get all .txt files from the input directory\n",
    "    input_files = glob.glob(os.path.join(input_directory, '*.txt'))\n",
    "\n",
    "    # Process each file\n",
    "    for input_file in input_files:\n",
    "        # Generate output filename based on the input filename\n",
    "        filename = os.path.basename(input_file)\n",
    "        output_file = os.path.join(output_directory, filename)\n",
    "\n",
    "        # Process the file and get unique lines\n",
    "        unique_lines = process_file(input_file, output_file)\n",
    "\n",
    "        # Update the total unique lines set (adding unique lines across all files)\n",
    "        total_unique_lines.update(unique_lines)\n",
    "\n",
    "        # Print the unique line count for each file\n",
    "        print(f\"Processed {filename}: {len(unique_lines)} unique lines.\")\n",
    "        total_count += len(unique_lines)\n",
    "\n",
    "    # Total unique lines across all files\n",
    "    print(f\"\\nTotal unique lines across all files: {len(total_unique_lines)}\")\n",
    "    print(f\"Total lines processed: {total_count}\")\n",
    "\n",
    "    return len(total_unique_lines), total_count\n",
    "    \n",
    "# Example usage:\n",
    "input_directory = 'rules'\n",
    "output_directory = 'rules/predicates'\n",
    "\n",
    "process_all_files(input_directory, output_directory)\n"
   ]
  },
  {
   "cell_type": "code",
   "execution_count": 90,
   "id": "0b91dddc-bc30-4683-bde0-3db6baa56033",
   "metadata": {},
   "outputs": [],
   "source": [
    "def read_file_lines(filepath):\n",
    "    \"\"\"\n",
    "    Reads a file line by line and returns a list of stripped lines.\n",
    "\n",
    "    :param filepath: Path to the file.\n",
    "    :return: List of lines with leading/trailing whitespace removed.\n",
    "    \"\"\"\n",
    "    lines = []\n",
    "    with open(filepath, 'r') as file:\n",
    "        for line in file:\n",
    "            lines.append(line.strip())\n",
    "    return lines"
   ]
  },
  {
   "cell_type": "code",
   "execution_count": 96,
   "id": "e87bd446-58bb-43d7-90a1-5b13f6ea03ea",
   "metadata": {},
   "outputs": [],
   "source": [
    "basics = read_file_lines(\"rules/predicates/basic_predicates.txt\")\n",
    "routines = read_file_lines(\"rules/predicates/routines_predicates.txt\")"
   ]
  },
  {
   "cell_type": "code",
   "execution_count": 161,
   "id": "a5c3dae6-9933-41ed-be7e-fd2767bf3d1f",
   "metadata": {},
   "outputs": [
    {
     "data": {
      "text/plain": [
       "['Tells(x)', 'Carves(x)', 'Stands(x)', 'Affects(x)']"
      ]
     },
     "execution_count": 161,
     "metadata": {},
     "output_type": "execute_result"
    }
   ],
   "source": [
    "import random\n",
    "random.sample(basics, 4)"
   ]
  },
  {
   "cell_type": "code",
   "execution_count": 162,
   "id": "cc354438-0d52-4956-9ac3-0bbc746fe9ec",
   "metadata": {},
   "outputs": [
    {
     "data": {
      "text/plain": [
       "['Slide(x)', 'MakeCall(x)', 'Knock(x)', 'PrioritizeTask(x)']"
      ]
     },
     "execution_count": 162,
     "metadata": {},
     "output_type": "execute_result"
    }
   ],
   "source": [
    "random.sample(routines, 4)"
   ]
  },
  {
   "cell_type": "code",
   "execution_count": 189,
   "id": "fc05514e-2371-4719-a82c-dd2f7d31bb3a",
   "metadata": {},
   "outputs": [],
   "source": [
    "rule = data[0]['rule']"
   ]
  },
  {
   "cell_type": "code",
   "execution_count": 210,
   "id": "edad56dc-cca9-4569-91e4-356370d6fb73",
   "metadata": {},
   "outputs": [
    {
     "name": "stdout",
     "output_type": "stream",
     "text": [
      "(((α ∨ β ∨ (α ∧ β)) → (α ∨ (β → β))) ∨ ¬¬¬β) ⇔ (((α ∨ β ∨ (α ∧ β)) → (True)) ∨ ¬¬¬β) ⇔ (True) 93\n"
     ]
    }
   ],
   "source": [
    "import os\n",
    "import re\n",
    "\n",
    "def separate_predicates(input_string):\n",
    "    return re.findall(r'\\b\\w+\\s*\\([^)]*\\)', input_string)\n",
    "\n",
    "directory = 'rules/predicates'  # Replace with the actual directory path\n",
    "\n",
    "# List all files and directories in the given directory\n",
    "\n",
    "triplets = {}\n",
    "singles = {}\n",
    "fundamentals = [\"Is(x)\", \"Feels(x)\", \"Exists(x)\", \"Does(x)\", \"Stands(x)\", \"There(x)\", \"Are(x)\", \"Do(x)\",\\\n",
    "                \"Has(x)\", \"Have(x)\", \"Comes(x)\", \"Come(x)\", \"Goes(x)\", \"Gone(x)\", \"Moves(x)\", \"Becomes(x)\", \\\n",
    "                \"Happens(x)\", \"Changes(x)\", \"Lives(x)\", \"Alive(x)\",\"Hard(x)\", \"Soft(x)\",\\\n",
    "                \"Remains(x)\", \"Remembers(x)\", \"Looks(x)\", \"Sounds(x)\", \"Belongs(x)\", \"Matters(x)\", \"Begins(x)\", \"Works(x)\"]\n",
    "\n",
    "for filename in os.listdir(directory):\n",
    "    pth = os.path.join(directory, filename)\n",
    "    k = filename.split(\"_\")[0]\n",
    "    v = read_file_lines(pth)\n",
    "    if \"triplet\" in filename:\n",
    "        triplets[k] = [separate_predicates(x) for x in v if x and ((\"True\" not in x) or (\"False\" not in x))]\n",
    "    else:\n",
    "        singles[k] = [x for x in v if x and ((\"True\" not in x) or (\"False\" not in x))]\n",
    "i = 0\n",
    "\n",
    "def generate_data(rule_datum):\n",
    "    generated = []\n",
    "    global i\n",
    "\n",
    "    for _, datalist in triplets.items():\n",
    "        predicates = random.sample(datalist,1)[0]\n",
    "        predicates += random.sample(fundamentals,1)\n",
    "        \n",
    "        datum = replace_greek_with_functions(rule_datum['rule'], predicates)\n",
    "        tokens, length = tokenize_with_cl100k_base(datum)\n",
    "        data = {\"id\" : i, \"rule_id\" : rule_datum[\"id\"], \"datum\" : datum, \"tokens\": tokens, \"length\" : length}\n",
    "        generated.append(data)\n",
    "\n",
    "        #print(\"\\n\"+replace_greek_with_functions(rule_datum['rule'], predicates))\n",
    "        #print(tokens, length)\n",
    "        i += 1\n",
    "        \n",
    "    \n",
    "    for _, datalist in singles.items():\n",
    "        predicates = random.sample(datalist,4)\n",
    "        \n",
    "        datum = replace_greek_with_functions(rule_datum['rule'], predicates)\n",
    "        tokens, length = tokenize_with_cl100k_base(datum)\n",
    "        data = {\"id\" : i, \"rule_id\" : rule_datum[\"id\"], \"datum\" : datum, \"tokens\": tokens, \"length\" : length}\n",
    "        generated.append(data)\n",
    "        #print(\"\\n\"+replace_greek_with_functions(rule_datum['rule'], predicates))\n",
    "        #print(tokens, length)\n",
    "        i += 1\n",
    "    return generated\n",
    "        \n",
    "    "
   ]
  },
  {
   "cell_type": "code",
   "execution_count": 212,
   "id": "fecd82cd-85e8-4ead-84bb-5f1f2101a62e",
   "metadata": {},
   "outputs": [
    {
     "data": {
      "text/plain": [
       "9"
      ]
     },
     "execution_count": 212,
     "metadata": {},
     "output_type": "execute_result"
    }
   ],
   "source": [
    "len(generate_data(data[0]))"
   ]
  },
  {
   "cell_type": "code",
   "execution_count": 160,
   "id": "4640a302-1a3d-49a5-95df-4b3acb726770",
   "metadata": {},
   "outputs": [
    {
     "data": {
      "text/plain": [
       "['Hen(x)', 'Peck(x)', 'Corn(x)', 'Has(x)']"
      ]
     },
     "execution_count": 160,
     "metadata": {},
     "output_type": "execute_result"
    }
   ],
   "source": [
    "triplets['pet'][3] + random.sample(fundamentals,1)"
   ]
  },
  {
   "cell_type": "code",
   "execution_count": null,
   "id": "79f61df8-c802-44d1-a7c1-295098a1ee6c",
   "metadata": {},
   "outputs": [],
   "source": []
  },
  {
   "cell_type": "code",
   "execution_count": null,
   "id": "0921a4e7-a9cb-44b6-8b23-b723223ef48d",
   "metadata": {},
   "outputs": [],
   "source": []
  }
 ],
 "metadata": {
  "kernelspec": {
   "display_name": "Python 3 (ipykernel)",
   "language": "python",
   "name": "python3"
  },
  "language_info": {
   "codemirror_mode": {
    "name": "ipython",
    "version": 3
   },
   "file_extension": ".py",
   "mimetype": "text/x-python",
   "name": "python",
   "nbconvert_exporter": "python",
   "pygments_lexer": "ipython3",
   "version": "3.12.2"
  }
 },
 "nbformat": 4,
 "nbformat_minor": 5
}
